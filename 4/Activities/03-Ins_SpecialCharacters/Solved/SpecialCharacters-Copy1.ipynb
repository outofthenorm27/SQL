{
 "cells": [
  {
   "cell_type": "code",
   "execution_count": null,
   "metadata": {},
   "outputs": [],
   "source": [
    "import pandas as pd\n",
    "import re\n",
    "pd.options.display.max_colwidth = 100"
   ]
  },
  {
   "cell_type": "code",
   "execution_count": null,
   "metadata": {},
   "outputs": [],
   "source": [
    "# load in English words list\n",
    "sherlock_file = '../Resources/sherlock.txt'\n",
    "\n",
    "sherlock_df = pd.read_csv(sherlock_file, sep='\\n', header=None)\n",
    "sherlock_df.columns = ['text']\n",
    "sherlock_df.head()"
   ]
  },
  {
   "cell_type": "code",
   "execution_count": null,
   "metadata": {},
   "outputs": [],
   "source": [
    "# find all lines of text that contain hear or heard\n",
    "p = 'heard?'\n",
    "sherlock_df[sherlock_df['text'].str.contains(p)]"
   ]
  },
  {
   "cell_type": "code",
   "execution_count": null,
   "metadata": {},
   "outputs": [],
   "source": [
    "# find all lines of text that contain tel or telll\n",
    "p = 'tell*'\n",
    "sherlock_df[sherlock_df['text'].str.contains(p)]"
   ]
  },
  {
   "cell_type": "code",
   "execution_count": null,
   "metadata": {},
   "outputs": [],
   "source": [
    "# find all lines of text that start with the string 'Watson'\n",
    "p = '^Watson'\n",
    "sherlock_df[sherlock_df['text'].str.contains(p)]"
   ]
  },
  {
   "cell_type": "code",
   "execution_count": null,
   "metadata": {},
   "outputs": [],
   "source": [
    "# find all lines of text that end with a period\n",
    "p = '\\.$'\n",
    "sherlock_df[sherlock_df['text'].str.contains(p)]"
   ]
  },
  {
   "cell_type": "code",
   "execution_count": null,
   "metadata": {},
   "outputs": [],
   "source": [
    "# Use | to match line that end with a period either or a question mark\n",
    "p = '\\.$|\\?$'\n",
    "sherlock_df[sherlock_df['text'].str.contains(p)]"
   ]
  },
  {
   "cell_type": "code",
   "execution_count": null,
   "metadata": {},
   "outputs": [],
   "source": []
  }
 ],
 "metadata": {
  "kernelspec": {
   "display_name": "PythonData",
   "language": "python",
   "name": "pythondata"
  },
  "language_info": {
   "codemirror_mode": {
    "name": "ipython",
    "version": 3
   },
   "file_extension": ".py",
   "mimetype": "text/x-python",
   "name": "python",
   "nbconvert_exporter": "python",
   "pygments_lexer": "ipython3",
   "version": "3.7.10"
  }
 },
 "nbformat": 4,
 "nbformat_minor": 2
}
